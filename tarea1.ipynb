{
 "cells": [
  {
   "cell_type": "code",
   "execution_count": 35,
   "metadata": {},
   "outputs": [],
   "source": [
    "from gurobipy import *\n",
    "import numpy as np\n",
    "import time\n",
    "\n",
    "prueba = 1+2"
   ]
  },
  {
   "cell_type": "markdown",
   "metadata": {},
   "source": [
    "# Problema 1"
   ]
  },
  {
   "cell_type": "code",
   "execution_count": 36,
   "metadata": {},
   "outputs": [
    {
     "name": "stdout",
     "output_type": "stream",
     "text": [
      "            x         y   demanda\n",
      "0      7,9744  -11,3045   147,199\n",
      "1    -13,6786   -3,3825   161,327\n",
      "2     -8,8032  -10,3279  172,4834\n",
      "3    -15,3621    9,4144  133,8201\n",
      "4     -9,0891   -7,9311  129,8221\n",
      "..        ...       ...       ...\n",
      "995   -6,2143    -10,86  155,4059\n",
      "996  -11,7203   -2,1472  132,1921\n",
      "997    6,4149    7,9825  126,1607\n",
      "998    5,9054   12,7097  156,3924\n",
      "999   -9,4583   -7,1544  141,3835\n",
      "\n",
      "[1000 rows x 3 columns]\n"
     ]
    }
   ],
   "source": [
    "#Abrir un archivo excel\n",
    "import pandas as pd\n",
    "\n",
    "#como leer un archivo .csv\n",
    "data = pd.read_csv('clientes2.csv', sep=';')\n",
    "print(data)\n"
   ]
  },
  {
   "cell_type": "markdown",
   "metadata": {},
   "source": [
    "## Pre-procesamiento"
   ]
  },
  {
   "cell_type": "code",
   "execution_count": 37,
   "metadata": {},
   "outputs": [
    {
     "name": "stdout",
     "output_type": "stream",
     "text": [
      "           x        y   demanda\n",
      "0     7.9744 -11.3045  147.1990\n",
      "1   -13.6786  -3.3825  161.3270\n",
      "2    -8.8032 -10.3279  172.4834\n",
      "3   -15.3621   9.4144  133.8201\n",
      "4    -9.0891  -7.9311  129.8221\n",
      "..       ...      ...       ...\n",
      "995  -6.2143 -10.8600  155.4059\n",
      "996 -11.7203  -2.1472  132.1921\n",
      "997   6.4149   7.9825  126.1607\n",
      "998   5.9054  12.7097  156.3924\n",
      "999  -9.4583  -7.1544  141.3835\n",
      "\n",
      "[1000 rows x 3 columns]\n"
     ]
    },
    {
     "name": "stderr",
     "output_type": "stream",
     "text": [
      "C:\\Users\\mrive\\AppData\\Local\\Temp\\ipykernel_22452\\2553919280.py:6: FutureWarning: DataFrame.applymap has been deprecated. Use DataFrame.map instead.\n",
      "  data = data.applymap(float)\n"
     ]
    }
   ],
   "source": [
    "for i in range(len(data)):\n",
    "    for j in range(len(data.columns)):\n",
    "        valor = data.iloc[i,j]\n",
    "        valor = valor.replace(\",\",\".\")\n",
    "        data.iloc[i,j] = valor\n",
    "data = data.applymap(float)\n",
    "\n",
    "# data = data.iloc[0:100]\n",
    "print(data)"
   ]
  },
  {
   "cell_type": "markdown",
   "metadata": {},
   "source": [
    "### Pregunta 1\n",
    "\n",
    "Programar una función que reciba un centro aleatorio (x,y) y un conjunto de datos de clientes con sus pesos. Definiendo como método de detención que la diferencia de coordenadas entre iteraciones no sea mayor que 1*10^-5. El algoritmo debe reportar la ubicación óprima, el tiempo de ejecución y el número de iteraciones realizadas para encontrar el óptimo"
   ]
  },
  {
   "cell_type": "code",
   "execution_count": 67,
   "metadata": {},
   "outputs": [
    {
     "name": "stdout",
     "output_type": "stream",
     "text": [
      "El modelo de localización arrojó las coordenadas x: -2.1912824007236202 y: -4.507447416659546\n",
      "El modelo se demoró un tiempo de 0.4131007194519043 segundos y 38 iteraciones\n"
     ]
    }
   ],
   "source": [
    "import random\n",
    "import time\n",
    "\n",
    "def centro_euclidiano(x=0, y=0, data=0, logs = True):\n",
    "    \n",
    "    data = data.reset_index(drop=True)\n",
    "    \n",
    "    x_new = x+1\n",
    "    y_new = y+1\n",
    "\n",
    "    x_i = data.iloc[:,0]\n",
    "    y_i = data.iloc[:,1]\n",
    "    pesos = data.iloc[:,2]\n",
    "    contador = 0\n",
    "    time_0 = time.time()\n",
    "    while (abs(x-x_new)>0.00001 and abs(y-y_new)>0.00001):\n",
    "        contador += 1\n",
    "        sum = 0\n",
    "        sum_new_x = 0\n",
    "        sum_g_i = 0\n",
    "        sum_new_y = 0\n",
    "        for i in range(len(data)):\n",
    "        \n",
    "            distancia = ((x-float(x_i[i]))**2+(y-float(y_i[i]))**2)**(1/2)\n",
    "            fx = float(pesos[i])*distancia\n",
    "            sum += fx\n",
    "            \n",
    "            g_i= (pesos[i]/distancia)\n",
    "            \n",
    "            sum_new_x += (x_i[i]*g_i)\n",
    "            sum_new_y += (y_i[i]*g_i)\n",
    "            sum_g_i += g_i\n",
    "            time_n = time.time()\n",
    "            \n",
    "        x, y = x_new, y_new\n",
    "        x_new = sum_new_x/sum_g_i\n",
    "        y_new = sum_new_y/sum_g_i\n",
    "        tiempo = time_n-time_0\n",
    "    if logs:\n",
    "        print(f'El modelo de localización arrojó las coordenadas x: {x_new} y: {y_new}')\n",
    "        print(f'El modelo se demoró un tiempo de {tiempo} segundos y {contador} iteraciones')\n",
    "    return x_new, y_new, tiempo, contador\n",
    "\n",
    "\n",
    "x=random.randint(-2,2)\n",
    "y=random.randint(-2,2)\n",
    "posx, posy, tiempo, iteraciones = centro_euclidiano(x, y, data)\n",
    "\n",
    "    "
   ]
  },
  {
   "cell_type": "markdown",
   "metadata": {},
   "source": [
    "### Pregunta 2\n",
    "Usando los datos de 'clientes2.csv' y tomando una muestra de 250 clientes al azar, realice 100 repeticiones del algoritmo partiendo desde distintos puntos aleatorios. Reporte los estadísticos básicos (media, desviación, gráfico box plot) para los tiempos de ejecución y número de iteraciones"
   ]
  },
  {
   "cell_type": "code",
   "execution_count": 68,
   "metadata": {},
   "outputs": [
    {
     "data": {
      "image/png": "[encoded data removed]",
      "text/plain": [
       "<Figure size 1000x1000 with 2 Axes>"
      ]
     },
     "metadata": {},
     "output_type": "display_data"
    }
   ],
   "source": [
    "import matplotlib.pyplot as plt\n",
    "\n",
    "data_sample = data.sample(n=250)\n",
    "\n",
    "\n",
    "max_value_x = round(data_sample.iloc[:,0].max())\n",
    "min_value_x = round(data_sample.iloc[:,0].min())\n",
    "max_value_y = round(data_sample.iloc[:,1].max())\n",
    "min_value_y = round(data_sample.iloc[:,1].min())\n",
    "\n",
    "df_estadisticos = pd.DataFrame(columns=['x','y','tiempo','iteraciones'])\n",
    "\n",
    "for i in range(1,11):\n",
    "    x=random.randint(min_value_x,max_value_x)\n",
    "    y=random.randint(min_value_y,max_value_y)\n",
    "    posx, posy, tiempo, iteraciones = centro_euclidiano(x, y, data_sample, logs=False)\n",
    "    df_estadisticos.loc[i] = [posx, posy, tiempo, iteraciones]\n",
    "    \n",
    "df_estadisticos.describe()\n",
    "\n",
    "fig, axes = plt.subplots(1,2,figsize=(10,10))\n",
    "\n",
    "axes[0].boxplot(df_estadisticos['tiempo'])\n",
    "axes[0].set_title('Boxplot de tiempo')\n",
    "axes[0].set_ylabel('Tiempo (s)')\n",
    "\n",
    "axes[1].boxplot(df_estadisticos['iteraciones'])\n",
    "axes[1].set_title('Boxplot de iteraciones')\n",
    "axes[1].set_ylabel('Iteraciones')\n",
    "\n",
    "plt.tight_layout()\n",
    "\n",
    "plt.show()\n"
   ]
  }
 ],
 "metadata": {
  "kernelspec": {
   "display_name": "Python 3",
   "language": "python",
   "name": "python3"
  },
  "language_info": {
   "codemirror_mode": {
    "name": "ipython",
    "version": 3
   },
   "file_extension": ".py",
   "mimetype": "text/x-python",
   "name": "python",
   "nbconvert_exporter": "python",
   "pygments_lexer": "ipython3",
   "version": "3.12.5"
  }
 },
 "nbformat": 4,
 "nbformat_minor": 2
}

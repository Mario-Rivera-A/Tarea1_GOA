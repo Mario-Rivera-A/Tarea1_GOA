{
 "cells": [
  {
   "cell_type": "code",
   "execution_count": 81,
   "metadata": {},
   "outputs": [],
   "source": [
    "from gurobipy import *\n",
    "import numpy as np\n",
    "import time"
   ]
  },
  {
   "cell_type": "code",
   "execution_count": 82,
   "metadata": {},
   "outputs": [
    {
     "name": "stdout",
     "output_type": "stream",
     "text": [
      "            x         y   demanda\n",
      "0      7,9744  -11,3045   147,199\n",
      "1    -13,6786   -3,3825   161,327\n",
      "2     -8,8032  -10,3279  172,4834\n",
      "3    -15,3621    9,4144  133,8201\n",
      "4     -9,0891   -7,9311  129,8221\n",
      "..        ...       ...       ...\n",
      "995   -6,2143    -10,86  155,4059\n",
      "996  -11,7203   -2,1472  132,1921\n",
      "997    6,4149    7,9825  126,1607\n",
      "998    5,9054   12,7097  156,3924\n",
      "999   -9,4583   -7,1544  141,3835\n",
      "\n",
      "[1000 rows x 3 columns]\n"
     ]
    }
   ],
   "source": [
    "#Abrir un archivo excel\n",
    "import pandas as pd\n",
    "import openpyxl\n",
    "\n",
    "#como leer un archivo .csv\n",
    "data = pd.read_csv('clientes2.csv', sep=';')\n",
    "print(data)\n"
   ]
  },
  {
   "cell_type": "markdown",
   "metadata": {},
   "source": [
    "## Pre-procesamiento"
   ]
  },
  {
   "cell_type": "code",
   "execution_count": 83,
   "metadata": {},
   "outputs": [
    {
     "name": "stdout",
     "output_type": "stream",
     "text": [
      "          x        y   demanda\n",
      "0    7.9744 -11.3045  147.1990\n",
      "1  -13.6786  -3.3825  161.3270\n",
      "2   -8.8032 -10.3279  172.4834\n",
      "3  -15.3621   9.4144  133.8201\n",
      "4   -9.0891  -7.9311  129.8221\n",
      "..      ...      ...       ...\n",
      "95  11.0695  -2.9302  135.5393\n",
      "96  16.9123 -15.1201  138.4456\n",
      "97   5.5644  11.8088  150.9736\n",
      "98  11.3843 -11.6451  145.2344\n",
      "99 -14.3093  -8.0562  186.7664\n",
      "\n",
      "[100 rows x 3 columns]\n"
     ]
    },
    {
     "name": "stderr",
     "output_type": "stream",
     "text": [
      "C:\\Users\\mrive\\AppData\\Local\\Temp\\ipykernel_16252\\3244050827.py:6: FutureWarning: DataFrame.applymap has been deprecated. Use DataFrame.map instead.\n",
      "  data = data.applymap(float)\n"
     ]
    }
   ],
   "source": [
    "for i in range(len(data)):\n",
    "    for j in range(len(data.columns)):\n",
    "        valor = data.iloc[i,j]\n",
    "        valor = valor.replace(\",\",\".\")\n",
    "        data.iloc[i,j] = valor\n",
    "data = data.applymap(float)\n",
    "\n",
    "data = data.iloc[0:100]\n",
    "print(data)"
   ]
  },
  {
   "cell_type": "code",
   "execution_count": 85,
   "metadata": {},
   "outputs": [
    {
     "ename": "KeyboardInterrupt",
     "evalue": "",
     "output_type": "error",
     "traceback": [
      "\u001b[1;31m---------------------------------------------------------------------------\u001b[0m",
      "\u001b[1;31mKeyboardInterrupt\u001b[0m                         Traceback (most recent call last)",
      "Cell \u001b[1;32mIn[85], line 38\u001b[0m\n\u001b[0;32m     35\u001b[0m x_new, y_new \u001b[38;5;241m=\u001b[39mcentro_euclidiano(x, y, data\u001b[38;5;241m=\u001b[39mdata)\n\u001b[0;32m     37\u001b[0m \u001b[38;5;28;01mwhile\u001b[39;00m (\u001b[38;5;28mabs\u001b[39m(x\u001b[38;5;241m-\u001b[39mx_new)\u001b[38;5;241m>\u001b[39m\u001b[38;5;241m0.01\u001b[39m \u001b[38;5;129;01mand\u001b[39;00m \u001b[38;5;28mabs\u001b[39m(y\u001b[38;5;241m-\u001b[39my_new)\u001b[38;5;241m>\u001b[39m\u001b[38;5;241m0.01\u001b[39m):\n\u001b[1;32m---> 38\u001b[0m     x_new, y_new \u001b[38;5;241m=\u001b[39m \u001b[43mcentro_euclidiano\u001b[49m\u001b[43m(\u001b[49m\u001b[43mx\u001b[49m\u001b[43m,\u001b[49m\u001b[43m \u001b[49m\u001b[43my\u001b[49m\u001b[43m,\u001b[49m\u001b[43m \u001b[49m\u001b[43mdata\u001b[49m\u001b[38;5;241;43m=\u001b[39;49m\u001b[43mdata\u001b[49m\u001b[43m)\u001b[49m\n\u001b[0;32m     39\u001b[0m \u001b[38;5;28mprint\u001b[39m(\u001b[38;5;124mf\u001b[39m\u001b[38;5;124m'\u001b[39m\u001b[38;5;124mEl modelo de localización arrojó las coordenadas x: \u001b[39m\u001b[38;5;132;01m{\u001b[39;00mx_new\u001b[38;5;132;01m}\u001b[39;00m\u001b[38;5;124m y: \u001b[39m\u001b[38;5;132;01m{\u001b[39;00my_new\u001b[38;5;132;01m}\u001b[39;00m\u001b[38;5;124m'\u001b[39m)\n",
      "Cell \u001b[1;32mIn[85], line 16\u001b[0m, in \u001b[0;36mcentro_euclidiano\u001b[1;34m(x, y, data)\u001b[0m\n\u001b[0;32m     12\u001b[0m \u001b[38;5;28;01mfor\u001b[39;00m i \u001b[38;5;129;01min\u001b[39;00m \u001b[38;5;28mrange\u001b[39m(\u001b[38;5;28mlen\u001b[39m(data)):\n\u001b[0;32m     13\u001b[0m     \u001b[38;5;66;03m# print(float(x_i[i]), float(y_i[i]), float(pesos[i]))\u001b[39;00m\n\u001b[0;32m     14\u001b[0m     \u001b[38;5;66;03m# print(type(x_i[i]), type(y_i[i]), type(pesos[i]))\u001b[39;00m\n\u001b[0;32m     15\u001b[0m     distancia \u001b[38;5;241m=\u001b[39m ((x\u001b[38;5;241m-\u001b[39m\u001b[38;5;28mfloat\u001b[39m(x_i[i]))\u001b[38;5;241m*\u001b[39m\u001b[38;5;241m*\u001b[39m\u001b[38;5;241m2\u001b[39m\u001b[38;5;241m+\u001b[39m(y\u001b[38;5;241m-\u001b[39m\u001b[38;5;28mfloat\u001b[39m(y_i[i]))\u001b[38;5;241m*\u001b[39m\u001b[38;5;241m*\u001b[39m\u001b[38;5;241m2\u001b[39m)\u001b[38;5;241m*\u001b[39m\u001b[38;5;241m*\u001b[39m(\u001b[38;5;241m1\u001b[39m\u001b[38;5;241m/\u001b[39m\u001b[38;5;241m2\u001b[39m)\n\u001b[1;32m---> 16\u001b[0m     fx \u001b[38;5;241m=\u001b[39m \u001b[38;5;28mfloat\u001b[39m(\u001b[43mpesos\u001b[49m\u001b[43m[\u001b[49m\u001b[43mi\u001b[49m\u001b[43m]\u001b[49m)\u001b[38;5;241m*\u001b[39mdistancia\n\u001b[0;32m     17\u001b[0m     \u001b[38;5;28msum\u001b[39m \u001b[38;5;241m+\u001b[39m\u001b[38;5;241m=\u001b[39m fx\n\u001b[0;32m     18\u001b[0m     \u001b[38;5;66;03m# print(f'Sumatoria final: {sum}')\u001b[39;00m\n",
      "File \u001b[1;32m~\\AppData\\Local\\Packages\\PythonSoftwareFoundation.Python.3.11_qbz5n2kfra8p0\\LocalCache\\local-packages\\Python311\\site-packages\\pandas\\core\\series.py:1121\u001b[0m, in \u001b[0;36mSeries.__getitem__\u001b[1;34m(self, key)\u001b[0m\n\u001b[0;32m   1118\u001b[0m     \u001b[38;5;28;01mreturn\u001b[39;00m \u001b[38;5;28mself\u001b[39m\u001b[38;5;241m.\u001b[39m_values[key]\n\u001b[0;32m   1120\u001b[0m \u001b[38;5;28;01melif\u001b[39;00m key_is_scalar:\n\u001b[1;32m-> 1121\u001b[0m     \u001b[38;5;28;01mreturn\u001b[39;00m \u001b[38;5;28;43mself\u001b[39;49m\u001b[38;5;241;43m.\u001b[39;49m\u001b[43m_get_value\u001b[49m\u001b[43m(\u001b[49m\u001b[43mkey\u001b[49m\u001b[43m)\u001b[49m\n\u001b[0;32m   1123\u001b[0m \u001b[38;5;66;03m# Convert generator to list before going through hashable part\u001b[39;00m\n\u001b[0;32m   1124\u001b[0m \u001b[38;5;66;03m# (We will iterate through the generator there to check for slices)\u001b[39;00m\n\u001b[0;32m   1125\u001b[0m \u001b[38;5;28;01mif\u001b[39;00m is_iterator(key):\n",
      "File \u001b[1;32m~\\AppData\\Local\\Packages\\PythonSoftwareFoundation.Python.3.11_qbz5n2kfra8p0\\LocalCache\\local-packages\\Python311\\site-packages\\pandas\\core\\series.py:1237\u001b[0m, in \u001b[0;36mSeries._get_value\u001b[1;34m(self, label, takeable)\u001b[0m\n\u001b[0;32m   1234\u001b[0m     \u001b[38;5;28;01mreturn\u001b[39;00m \u001b[38;5;28mself\u001b[39m\u001b[38;5;241m.\u001b[39m_values[label]\n\u001b[0;32m   1236\u001b[0m \u001b[38;5;66;03m# Similar to Index.get_value, but we do not fall back to positional\u001b[39;00m\n\u001b[1;32m-> 1237\u001b[0m loc \u001b[38;5;241m=\u001b[39m \u001b[38;5;28;43mself\u001b[39;49m\u001b[38;5;241;43m.\u001b[39;49m\u001b[43mindex\u001b[49m\u001b[38;5;241;43m.\u001b[39;49m\u001b[43mget_loc\u001b[49m\u001b[43m(\u001b[49m\u001b[43mlabel\u001b[49m\u001b[43m)\u001b[49m\n\u001b[0;32m   1239\u001b[0m \u001b[38;5;28;01mif\u001b[39;00m is_integer(loc):\n\u001b[0;32m   1240\u001b[0m     \u001b[38;5;28;01mreturn\u001b[39;00m \u001b[38;5;28mself\u001b[39m\u001b[38;5;241m.\u001b[39m_values[loc]\n",
      "File \u001b[1;32m~\\AppData\\Local\\Packages\\PythonSoftwareFoundation.Python.3.11_qbz5n2kfra8p0\\LocalCache\\local-packages\\Python311\\site-packages\\pandas\\core\\indexes\\range.py:411\u001b[0m, in \u001b[0;36mRangeIndex.get_loc\u001b[1;34m(self, key)\u001b[0m\n\u001b[0;32m    408\u001b[0m \u001b[38;5;129m@doc\u001b[39m(Index\u001b[38;5;241m.\u001b[39mget_loc)\n\u001b[0;32m    409\u001b[0m \u001b[38;5;28;01mdef\u001b[39;00m \u001b[38;5;21mget_loc\u001b[39m(\u001b[38;5;28mself\u001b[39m, key) \u001b[38;5;241m-\u001b[39m\u001b[38;5;241m>\u001b[39m \u001b[38;5;28mint\u001b[39m:\n\u001b[0;32m    410\u001b[0m     \u001b[38;5;28;01mif\u001b[39;00m is_integer(key) \u001b[38;5;129;01mor\u001b[39;00m (is_float(key) \u001b[38;5;129;01mand\u001b[39;00m key\u001b[38;5;241m.\u001b[39mis_integer()):\n\u001b[1;32m--> 411\u001b[0m         new_key \u001b[38;5;241m=\u001b[39m \u001b[38;5;28;43mint\u001b[39;49m\u001b[43m(\u001b[49m\u001b[43mkey\u001b[49m\u001b[43m)\u001b[49m\n\u001b[0;32m    412\u001b[0m         \u001b[38;5;28;01mtry\u001b[39;00m:\n\u001b[0;32m    413\u001b[0m             \u001b[38;5;28;01mreturn\u001b[39;00m \u001b[38;5;28mself\u001b[39m\u001b[38;5;241m.\u001b[39m_range\u001b[38;5;241m.\u001b[39mindex(new_key)\n",
      "\u001b[1;31mKeyboardInterrupt\u001b[0m: "
     ]
    }
   ],
   "source": [
    "import random\n",
    "\n",
    "def centro_euclidiano(x=0, y=0, data=0):\n",
    "    # print(f'Se ingresó la función con x: {x}, y: {y}')\n",
    "    x_i = data.iloc[:,0]\n",
    "    y_i = data.iloc[:,1]\n",
    "    pesos = data.iloc[:,2]\n",
    "    sum = 0\n",
    "    sum_new_x = 0\n",
    "    sum_g_i = 0\n",
    "    sum_new_y = 0\n",
    "    for i in range(len(data)):\n",
    "        # print(float(x_i[i]), float(y_i[i]), float(pesos[i]))\n",
    "        # print(type(x_i[i]), type(y_i[i]), type(pesos[i]))\n",
    "        distancia = ((x-float(x_i[i]))**2+(y-float(y_i[i]))**2)**(1/2)\n",
    "        fx = float(pesos[i])*distancia\n",
    "        sum += fx\n",
    "        # print(f'Sumatoria final: {sum}')\n",
    "        \n",
    "        g_i= (pesos[i]/distancia)\n",
    "        \n",
    "        sum_new_x += (x_i[i]*g_i)\n",
    "        sum_new_y += (y_i[i]*g_i)\n",
    "        sum_g_i += g_i\n",
    "        \n",
    "        \n",
    "    \n",
    "    x_new = sum_new_x/sum_g_i\n",
    "    y_new = sum_new_y/sum_g_i\n",
    "    # print(f'Nuevo x: {x_new} y el nuevo y: {y_new}')\n",
    "    return x_new, y_new\n",
    "        \n",
    "x=random.randint(-2,2)\n",
    "y=random.randint(-2,2)\n",
    "x_new, y_new =centro_euclidiano(x, y, data=data)\n",
    "\n",
    "while (abs(x-x_new)>0.01 and abs(y-y_new)>0.01):\n",
    "    x_new, y_new = centro_euclidiano(x, y, data=data)\n",
    "print(f'El modelo de localización arrojó las coordenadas x: {x_new} y: {y_new}')\n",
    "    "
   ]
  }
 ],
 "metadata": {
  "kernelspec": {
   "display_name": "Python 3",
   "language": "python",
   "name": "python3"
  },
  "language_info": {
   "codemirror_mode": {
    "name": "ipython",
    "version": 3
   },
   "file_extension": ".py",
   "mimetype": "text/x-python",
   "name": "python",
   "nbconvert_exporter": "python",
   "pygments_lexer": "ipython3",
   "version": "3.11.9"
  }
 },
 "nbformat": 4,
 "nbformat_minor": 2
}

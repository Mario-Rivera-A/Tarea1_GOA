{
 "cells": [
  {
   "cell_type": "code",
   "execution_count": 3,
   "metadata": {},
   "outputs": [],
   "source": [
    "from gurobipy import *\n",
    "import numpy as np\n",
    "import time"
   ]
  },
  {
   "cell_type": "code",
   "execution_count": 4,
   "metadata": {},
   "outputs": [
    {
     "name": "stdout",
     "output_type": "stream",
     "text": [
      "            x         y   demanda\n",
      "0      7,9744  -11,3045   147,199\n",
      "1    -13,6786   -3,3825   161,327\n",
      "2     -8,8032  -10,3279  172,4834\n",
      "3    -15,3621    9,4144  133,8201\n",
      "4     -9,0891   -7,9311  129,8221\n",
      "..        ...       ...       ...\n",
      "995   -6,2143    -10,86  155,4059\n",
      "996  -11,7203   -2,1472  132,1921\n",
      "997    6,4149    7,9825  126,1607\n",
      "998    5,9054   12,7097  156,3924\n",
      "999   -9,4583   -7,1544  141,3835\n",
      "\n",
      "[1000 rows x 3 columns]\n"
     ]
    }
   ],
   "source": [
    "#Abrir un archivo excel\n",
    "import pandas as pd\n",
    "\n",
    "#como leer un archivo .csv\n",
    "data = pd.read_csv('clientes2.csv', sep=';')\n",
    "print(data)\n"
   ]
  },
  {
   "cell_type": "markdown",
   "metadata": {},
   "source": [
    "## Pre-procesamiento"
   ]
  },
  {
   "cell_type": "code",
   "execution_count": 5,
   "metadata": {},
   "outputs": [
    {
     "name": "stdout",
     "output_type": "stream",
     "text": [
      "          x        y   demanda\n",
      "0    7.9744 -11.3045  147.1990\n",
      "1  -13.6786  -3.3825  161.3270\n",
      "2   -8.8032 -10.3279  172.4834\n",
      "3  -15.3621   9.4144  133.8201\n",
      "4   -9.0891  -7.9311  129.8221\n",
      "..      ...      ...       ...\n",
      "95  11.0695  -2.9302  135.5393\n",
      "96  16.9123 -15.1201  138.4456\n",
      "97   5.5644  11.8088  150.9736\n",
      "98  11.3843 -11.6451  145.2344\n",
      "99 -14.3093  -8.0562  186.7664\n",
      "\n",
      "[100 rows x 3 columns]\n"
     ]
    },
    {
     "name": "stderr",
     "output_type": "stream",
     "text": [
      "C:\\Users\\mrive\\AppData\\Local\\Temp\\ipykernel_22452\\3244050827.py:6: FutureWarning: DataFrame.applymap has been deprecated. Use DataFrame.map instead.\n",
      "  data = data.applymap(float)\n"
     ]
    }
   ],
   "source": [
    "for i in range(len(data)):\n",
    "    for j in range(len(data.columns)):\n",
    "        valor = data.iloc[i,j]\n",
    "        valor = valor.replace(\",\",\".\")\n",
    "        data.iloc[i,j] = valor\n",
    "data = data.applymap(float)\n",
    "\n",
    "data = data.iloc[0:100]\n",
    "print(data)"
   ]
  },
  {
   "cell_type": "code",
   "execution_count": 18,
   "metadata": {},
   "outputs": [
    {
     "name": "stdout",
     "output_type": "stream",
     "text": [
      "El modelo de localización arrojó las coordenadas x: -3.9863734097722876 y: -5.046098594419144\n",
      "El modelo se demoró un tiempo de 0.024375438690185547 segundos y 21 iteraciones\n"
     ]
    }
   ],
   "source": [
    "import random\n",
    "import time\n",
    "\n",
    "def centro_euclidiano(x=0, y=0, data=0):\n",
    "    \n",
    "    x_i = data.iloc[:,0]\n",
    "    y_i = data.iloc[:,1]\n",
    "    pesos = data.iloc[:,2]\n",
    "    sum = 0\n",
    "    sum_new_x = 0\n",
    "    sum_g_i = 0\n",
    "    sum_new_y = 0\n",
    "    for i in range(len(data)):\n",
    "    \n",
    "        distancia = ((x-float(x_i[i]))**2+(y-float(y_i[i]))**2)**(1/2)\n",
    "        fx = float(pesos[i])*distancia\n",
    "        sum += fx\n",
    "        \n",
    "        g_i= (pesos[i]/distancia)\n",
    "        \n",
    "        sum_new_x += (x_i[i]*g_i)\n",
    "        sum_new_y += (y_i[i]*g_i)\n",
    "        sum_g_i += g_i\n",
    "        \n",
    "    x_new = sum_new_x/sum_g_i\n",
    "    y_new = sum_new_y/sum_g_i\n",
    "    \n",
    "    return x_new, y_new\n",
    "        \n",
    "x=random.randint(-2,2)\n",
    "y=random.randint(-2,2)\n",
    "x_new, y_new = random.randint(3,5), random.randint(3,5)\n",
    "contador = 0\n",
    "tiempo_0 = time.time()\n",
    "\n",
    "while (abs(x-x_new)>0.00001 and abs(y-y_new)>0.00001):\n",
    "    contador += 1\n",
    "    x, y = x_new, y_new\n",
    "    x_new, y_new = centro_euclidiano(x, y, data)\n",
    "    \n",
    "    # Logs\n",
    "    # print(f'La distancia entre x: {x} y x_new: {x_new} es: {abs(x-x_new)}')\n",
    "    # print(f'La distancia entre y: {y} y y_new: {y_new} es: {abs(y-y_new)}')\n",
    "    \n",
    "    tiempo_n = time.time()\n",
    "    \n",
    "print(f'El modelo de localización arrojó las coordenadas x: {x_new} y: {y_new}')\n",
    "print(f'El modelo se demoró un tiempo de {tiempo_n-tiempo_0} segundos y {contador} iteraciones')\n",
    "    "
   ]
  }
 ],
 "metadata": {
  "kernelspec": {
   "display_name": "Python 3",
   "language": "python",
   "name": "python3"
  },
  "language_info": {
   "codemirror_mode": {
    "name": "ipython",
    "version": 3
   },
   "file_extension": ".py",
   "mimetype": "text/x-python",
   "name": "python",
   "nbconvert_exporter": "python",
   "pygments_lexer": "ipython3",
   "version": "3.11.9"
  }
 },
 "nbformat": 4,
 "nbformat_minor": 2
}

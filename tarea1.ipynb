{
 "cells": [
  {
   "cell_type": "code",
   "execution_count": 81,
   "metadata": {},
   "outputs": [],
   "source": [
    "from gurobipy import *\n",
    "import numpy as np\n",
    "import time"
   ]
  },
  {
   "cell_type": "code",
   "execution_count": 82,
   "metadata": {},
   "outputs": [
    {
     "name": "stdout",
     "output_type": "stream",
     "text": [
      "            x         y   demanda\n",
      "0      7,9744  -11,3045   147,199\n",
      "1    -13,6786   -3,3825   161,327\n",
      "2     -8,8032  -10,3279  172,4834\n",
      "3    -15,3621    9,4144  133,8201\n",
      "4     -9,0891   -7,9311  129,8221\n",
      "..        ...       ...       ...\n",
      "995   -6,2143    -10,86  155,4059\n",
      "996  -11,7203   -2,1472  132,1921\n",
      "997    6,4149    7,9825  126,1607\n",
      "998    5,9054   12,7097  156,3924\n",
      "999   -9,4583   -7,1544  141,3835\n",
      "\n",
      "[1000 rows x 3 columns]\n"
     ]
    }
   ],
   "source": [
    "#Abrir un archivo excel\n",
    "import pandas as pd\n",
    "import openpyxl\n",
    "\n",
    "#como leer un archivo .csv\n",
    "data = pd.read_csv('clientes2.csv', sep=';')\n",
    "print(data)\n"
   ]
  },
  {
   "cell_type": "markdown",
   "metadata": {},
   "source": [
    "## Pre-procesamiento"
   ]
  },
  {
   "cell_type": "code",
   "execution_count": 83,
   "metadata": {},
   "outputs": [
    {
     "name": "stdout",
     "output_type": "stream",
     "text": [
      "          x        y   demanda\n",
      "0    7.9744 -11.3045  147.1990\n",
      "1  -13.6786  -3.3825  161.3270\n",
      "2   -8.8032 -10.3279  172.4834\n",
      "3  -15.3621   9.4144  133.8201\n",
      "4   -9.0891  -7.9311  129.8221\n",
      "..      ...      ...       ...\n",
      "95  11.0695  -2.9302  135.5393\n",
      "96  16.9123 -15.1201  138.4456\n",
      "97   5.5644  11.8088  150.9736\n",
      "98  11.3843 -11.6451  145.2344\n",
      "99 -14.3093  -8.0562  186.7664\n",
      "\n",
      "[100 rows x 3 columns]\n"
     ]
    },
    {
     "name": "stderr",
     "output_type": "stream",
     "text": [
      "C:\\Users\\mrive\\AppData\\Local\\Temp\\ipykernel_16252\\3244050827.py:6: FutureWarning: DataFrame.applymap has been deprecated. Use DataFrame.map instead.\n",
      "  data = data.applymap(float)\n"
     ]
    }
   ],
   "source": [
    "for i in range(len(data)):\n",
    "    for j in range(len(data.columns)):\n",
    "        valor = data.iloc[i,j]\n",
    "        valor = valor.replace(\",\",\".\")\n",
    "        data.iloc[i,j] = valor\n",
    "data = data.applymap(float)\n",
    "\n",
    "data = data.iloc[0:100]\n",
    "print(data)"
   ]
  },
  {
   "cell_type": "code",
   "execution_count": 87,
   "metadata": {},
   "outputs": [
    {
     "name": "stdout",
     "output_type": "stream",
     "text": [
      "La distancia entre x: 4 y x_new: 0.2931827144640927 es: 3.7068172855359074\n",
      "La distancia entre y: 5 y y_new: -1.3140091678462977 es: 6.314009167846297\n",
      "La distancia entre x: 0.2931827144640927 y x_new: -1.8299653524113102 es: 2.123148066875403\n",
      "La distancia entre y: -1.3140091678462977 y y_new: -3.9419794876713974 es: 2.6279703198250997\n",
      "La distancia entre x: -1.8299653524113102 y x_new: -2.6547235339382005 es: 0.8247581815268903\n",
      "La distancia entre y: -3.9419794876713974 y y_new: -4.530048216117458 es: 0.5880687284460606\n",
      "La distancia entre x: -2.6547235339382005 y x_new: -3.1736008225249477 es: 0.5188772885867472\n",
      "La distancia entre y: -4.530048216117458 y y_new: -4.77805787553671 es: 0.24800965941925224\n",
      "La distancia entre x: -3.1736008225249477 y x_new: -3.5213824147042545 es: 0.3477815921793068\n",
      "La distancia entre y: -4.77805787553671 y y_new: -4.902064875915887 es: 0.12400700037917645\n",
      "La distancia entre x: -3.5213824147042545 y x_new: -3.730484171395453 es: 0.20910175669119857\n",
      "La distancia entre y: -4.902064875915887 y y_new: -4.965484253305415 es: 0.06341937738952819\n",
      "La distancia entre x: -3.730484171395453 y x_new: -3.8492280014520115 es: 0.11874383005655842\n",
      "La distancia entre y: -4.965484253305415 y y_new: -5.0009706002966805 es: 0.03548634699126563\n",
      "La distancia entre x: -3.8492280014520115 y x_new: -3.9140569436693347 es: 0.06482894221732316\n",
      "La distancia entre y: -5.0009706002966805 y y_new: -5.021293305568606 es: 0.02032270527192548\n",
      "La distancia entre x: -3.9140569436693347 y x_new: -3.948587880817083 es: 0.034530937147748464\n",
      "La distancia entre y: -5.021293305568606 y y_new: -5.032698764860127 es: 0.011405459291521147\n",
      "La distancia entre x: -3.948587880817083 y x_new: -3.9667277104593746 es: 0.01813982964229144\n",
      "La distancia entre y: -5.032698764860127 y y_new: -5.038945317174802 es: 0.006246552314674858\n",
      "La distancia entre x: -3.9667277104593746 y x_new: -3.97618728741029 es: 0.009459576950915594\n",
      "La distancia entre y: -5.038945317174802 y y_new: -5.042308425995812 es: 0.003363108821010208\n",
      "La distancia entre x: -3.97618728741029 y x_new: -3.9811016976655624 es: 0.0049144102552722835\n",
      "La distancia entre y: -5.042308425995812 y y_new: -5.04410041431567 es: 0.001791988319857829\n",
      "La distancia entre x: -3.9811016976655624 y x_new: -3.983649998850564 es: 0.002548301185001378\n",
      "La distancia entre y: -5.04410041431567 y y_new: -5.045049419831642 es: 0.0009490055159719901\n",
      "La distancia entre x: -3.983649998850564 y x_new: -3.9849701911851705 es: 0.0013201923346066735\n",
      "La distancia entre y: -5.045049419831642 y y_new: -5.045550124911722 es: 0.0005007050800802659\n",
      "La distancia entre x: -3.9849701911851705 y x_new: -3.985653870147942 es: 0.000683678962771328\n",
      "La distancia entre y: -5.045550124911722 y y_new: -5.045813661701324 es: 0.00026353678960155946\n",
      "La distancia entre x: -3.985653870147942 y x_new: -3.986007875102108 es: 0.00035400495416615385\n",
      "La distancia entre y: -5.045813661701324 y y_new: -5.045952131907927 es: 0.00013847020660318066\n",
      "La distancia entre x: -3.986007875102108 y x_new: -3.9861911764987346 es: 0.0001833013966265895\n",
      "La distancia entre y: -5.045952131907927 y y_new: -5.0460247931426165 es: 7.266123468951946e-05\n",
      "La distancia entre x: -3.9861911764987346 y x_new: -3.9862860946719385 es: 9.491817320395057e-05\n",
      "La distancia entre y: -5.0460247931426165 y y_new: -5.046062880961221 es: 3.808781860481503e-05\n",
      "La distancia entre x: -3.9862860946719385 y x_new: -3.986335250246196 es: 4.915557425766437e-05\n",
      "La distancia entre y: -5.046062880961221 y y_new: -5.046082827841258 es: 1.9946880036592063e-05\n",
      "La distancia entre x: -3.986335250246196 y x_new: -3.9863607092146984 es: 2.5458968502256596e-05\n",
      "La distancia entre y: -5.046082827841258 y y_new: -5.046093265858377 es: 1.043801711908543e-05\n",
      "La distancia entre x: -3.9863607092146984 y x_new: -3.986373896466998 es: 1.3187252299484697e-05\n",
      "La distancia entre y: -5.046093265858377 y y_new: -5.046098724094931 es: 5.458236554289897e-06\n",
      "El modelo de localización arrojó las coordenadas x: -3.986373896466998 y: -5.046098724094931\n"
     ]
    }
   ],
   "source": [
    "import random\n",
    "\n",
    "def centro_euclidiano(x=0, y=0, data=0):\n",
    "    # print(f'Se ingresó la función con x: {x}, y: {y}')\n",
    "    x_i = data.iloc[:,0]\n",
    "    y_i = data.iloc[:,1]\n",
    "    pesos = data.iloc[:,2]\n",
    "    sum = 0\n",
    "    sum_new_x = 0\n",
    "    sum_g_i = 0\n",
    "    sum_new_y = 0\n",
    "    for i in range(len(data)):\n",
    "        # print(float(x_i[i]), float(y_i[i]), float(pesos[i]))\n",
    "        # print(type(x_i[i]), type(y_i[i]), type(pesos[i]))\n",
    "        distancia = ((x-float(x_i[i]))**2+(y-float(y_i[i]))**2)**(1/2)\n",
    "        fx = float(pesos[i])*distancia\n",
    "        sum += fx\n",
    "        # print(f'Sumatoria final: {sum}')\n",
    "        \n",
    "        g_i= (pesos[i]/distancia)\n",
    "        \n",
    "        sum_new_x += (x_i[i]*g_i)\n",
    "        sum_new_y += (y_i[i]*g_i)\n",
    "        sum_g_i += g_i\n",
    "        \n",
    "        \n",
    "    \n",
    "    x_new = sum_new_x/sum_g_i\n",
    "    y_new = sum_new_y/sum_g_i\n",
    "    # print(f'Nuevo x: {x_new} y el nuevo y: {y_new}')\n",
    "    return x_new, y_new\n",
    "        \n",
    "x=random.randint(-2,2)\n",
    "y=random.randint(-2,2)\n",
    "x_new, y_new = random.randint(3,5), random.randint(3,5)\n",
    "\n",
    "while (abs(x-x_new)>0.00001 and abs(y-y_new)>0.00001):\n",
    "    x, y = x_new, y_new\n",
    "    x_new, y_new = centro_euclidiano(x, y, data)\n",
    "    print(f'La distancia entre x: {x} y x_new: {x_new} es: {abs(x-x_new)}')\n",
    "    print(f'La distancia entre y: {y} y y_new: {y_new} es: {abs(y-y_new)}')\n",
    "    \n",
    "    \n",
    "    \n",
    "    \n",
    "    \n",
    "    \n",
    "    \n",
    "print(f'El modelo de localización arrojó las coordenadas x: {x_new} y: {y_new}')\n",
    "    "
   ]
  }
 ],
 "metadata": {
  "kernelspec": {
   "display_name": "Python 3",
   "language": "python",
   "name": "python3"
  },
  "language_info": {
   "codemirror_mode": {
    "name": "ipython",
    "version": 3
   },
   "file_extension": ".py",
   "mimetype": "text/x-python",
   "name": "python",
   "nbconvert_exporter": "python",
   "pygments_lexer": "ipython3",
   "version": "3.11.9"
  }
 },
 "nbformat": 4,
 "nbformat_minor": 2
}
